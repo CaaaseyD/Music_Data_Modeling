{
 "cells": [
  {
   "cell_type": "markdown",
   "metadata": {},
   "source": [
    "# Music Data Modeling Project\n",
    "In this project, we apply Data Modeling with Cassandra and build an ETL pipeline using Python. We will build a Data Model around our queries that we want to get answers for. For our use case we want below answers:\n",
    "1. Get details of a song that was herad on the music app history during a particular session.\n",
    "2. Get songs played by a user during particular session on music app.\n",
    "3. Get all users from the music app history who listened to a particular song."
   ]
  },
  {
   "cell_type": "markdown",
   "metadata": {},
   "source": [
    "# Part I. ETL Pipeline for Pre-Processing the Files"
   ]
  },
  {
   "cell_type": "code",
   "execution_count": 1,
   "metadata": {},
   "outputs": [],
   "source": [
    "# import python packages\n",
    "import pandas as pd\n",
    "import cassandra\n",
    "import re\n",
    "import os\n",
    "import glob\n",
    "import numpy as np\n",
    "import json\n",
    "import csv"
   ]
  },
  {
   "cell_type": "code",
   "execution_count": 3,
   "metadata": {},
   "outputs": [
    {
     "name": "stdout",
     "output_type": "stream",
     "text": [
      "current working directory: c:\\Users\\CaseyD\\Dropbox\\Baimax\\PersonalDevelopment\\SQL\\Music_Data_Modeling\n",
      "['c:\\\\Users\\\\CaseyD\\\\Dropbox\\\\Baimax\\\\PersonalDevelopment\\\\SQL\\\\Music_Data_Modeling/event_data\\\\2018-11-01-events.csv', 'c:\\\\Users\\\\CaseyD\\\\Dropbox\\\\Baimax\\\\PersonalDevelopment\\\\SQL\\\\Music_Data_Modeling/event_data\\\\2018-11-02-events.csv', 'c:\\\\Users\\\\CaseyD\\\\Dropbox\\\\Baimax\\\\PersonalDevelopment\\\\SQL\\\\Music_Data_Modeling/event_data\\\\2018-11-03-events.csv', 'c:\\\\Users\\\\CaseyD\\\\Dropbox\\\\Baimax\\\\PersonalDevelopment\\\\SQL\\\\Music_Data_Modeling/event_data\\\\2018-11-04-events.csv', 'c:\\\\Users\\\\CaseyD\\\\Dropbox\\\\Baimax\\\\PersonalDevelopment\\\\SQL\\\\Music_Data_Modeling/event_data\\\\2018-11-05-events.csv', 'c:\\\\Users\\\\CaseyD\\\\Dropbox\\\\Baimax\\\\PersonalDevelopment\\\\SQL\\\\Music_Data_Modeling/event_data\\\\2018-11-06-events.csv', 'c:\\\\Users\\\\CaseyD\\\\Dropbox\\\\Baimax\\\\PersonalDevelopment\\\\SQL\\\\Music_Data_Modeling/event_data\\\\2018-11-07-events.csv', 'c:\\\\Users\\\\CaseyD\\\\Dropbox\\\\Baimax\\\\PersonalDevelopment\\\\SQL\\\\Music_Data_Modeling/event_data\\\\2018-11-08-events.csv', 'c:\\\\Users\\\\CaseyD\\\\Dropbox\\\\Baimax\\\\PersonalDevelopment\\\\SQL\\\\Music_Data_Modeling/event_data\\\\2018-11-09-events.csv', 'c:\\\\Users\\\\CaseyD\\\\Dropbox\\\\Baimax\\\\PersonalDevelopment\\\\SQL\\\\Music_Data_Modeling/event_data\\\\2018-11-10-events.csv', 'c:\\\\Users\\\\CaseyD\\\\Dropbox\\\\Baimax\\\\PersonalDevelopment\\\\SQL\\\\Music_Data_Modeling/event_data\\\\2018-11-11-events.csv', 'c:\\\\Users\\\\CaseyD\\\\Dropbox\\\\Baimax\\\\PersonalDevelopment\\\\SQL\\\\Music_Data_Modeling/event_data\\\\2018-11-12-events.csv', 'c:\\\\Users\\\\CaseyD\\\\Dropbox\\\\Baimax\\\\PersonalDevelopment\\\\SQL\\\\Music_Data_Modeling/event_data\\\\2018-11-13-events.csv', 'c:\\\\Users\\\\CaseyD\\\\Dropbox\\\\Baimax\\\\PersonalDevelopment\\\\SQL\\\\Music_Data_Modeling/event_data\\\\2018-11-14-events.csv', 'c:\\\\Users\\\\CaseyD\\\\Dropbox\\\\Baimax\\\\PersonalDevelopment\\\\SQL\\\\Music_Data_Modeling/event_data\\\\2018-11-15-events.csv', 'c:\\\\Users\\\\CaseyD\\\\Dropbox\\\\Baimax\\\\PersonalDevelopment\\\\SQL\\\\Music_Data_Modeling/event_data\\\\2018-11-16-events.csv', 'c:\\\\Users\\\\CaseyD\\\\Dropbox\\\\Baimax\\\\PersonalDevelopment\\\\SQL\\\\Music_Data_Modeling/event_data\\\\2018-11-17-events.csv', 'c:\\\\Users\\\\CaseyD\\\\Dropbox\\\\Baimax\\\\PersonalDevelopment\\\\SQL\\\\Music_Data_Modeling/event_data\\\\2018-11-18-events.csv', 'c:\\\\Users\\\\CaseyD\\\\Dropbox\\\\Baimax\\\\PersonalDevelopment\\\\SQL\\\\Music_Data_Modeling/event_data\\\\2018-11-19-events.csv', 'c:\\\\Users\\\\CaseyD\\\\Dropbox\\\\Baimax\\\\PersonalDevelopment\\\\SQL\\\\Music_Data_Modeling/event_data\\\\2018-11-20-events.csv', 'c:\\\\Users\\\\CaseyD\\\\Dropbox\\\\Baimax\\\\PersonalDevelopment\\\\SQL\\\\Music_Data_Modeling/event_data\\\\2018-11-21-events.csv', 'c:\\\\Users\\\\CaseyD\\\\Dropbox\\\\Baimax\\\\PersonalDevelopment\\\\SQL\\\\Music_Data_Modeling/event_data\\\\2018-11-22-events.csv', 'c:\\\\Users\\\\CaseyD\\\\Dropbox\\\\Baimax\\\\PersonalDevelopment\\\\SQL\\\\Music_Data_Modeling/event_data\\\\2018-11-23-events.csv', 'c:\\\\Users\\\\CaseyD\\\\Dropbox\\\\Baimax\\\\PersonalDevelopment\\\\SQL\\\\Music_Data_Modeling/event_data\\\\2018-11-24-events.csv', 'c:\\\\Users\\\\CaseyD\\\\Dropbox\\\\Baimax\\\\PersonalDevelopment\\\\SQL\\\\Music_Data_Modeling/event_data\\\\2018-11-25-events.csv', 'c:\\\\Users\\\\CaseyD\\\\Dropbox\\\\Baimax\\\\PersonalDevelopment\\\\SQL\\\\Music_Data_Modeling/event_data\\\\2018-11-26-events.csv', 'c:\\\\Users\\\\CaseyD\\\\Dropbox\\\\Baimax\\\\PersonalDevelopment\\\\SQL\\\\Music_Data_Modeling/event_data\\\\2018-11-27-events.csv', 'c:\\\\Users\\\\CaseyD\\\\Dropbox\\\\Baimax\\\\PersonalDevelopment\\\\SQL\\\\Music_Data_Modeling/event_data\\\\2018-11-28-events.csv', 'c:\\\\Users\\\\CaseyD\\\\Dropbox\\\\Baimax\\\\PersonalDevelopment\\\\SQL\\\\Music_Data_Modeling/event_data\\\\2018-11-29-events.csv', 'c:\\\\Users\\\\CaseyD\\\\Dropbox\\\\Baimax\\\\PersonalDevelopment\\\\SQL\\\\Music_Data_Modeling/event_data\\\\2018-11-30-events.csv']\n"
     ]
    }
   ],
   "source": [
    "# process original event csv data files\n",
    "# check current working directory\n",
    "print(f\"current working directory: {os.getcwd()}\")\n",
    "# get directory of the data files\n",
    "filepath = os.getcwd() + '/event_data'\n",
    "# create a list of the files and collect each filepath\n",
    "for root,dirs,files in os.walk(filepath):\n",
    "# join the file path and roots with the subdirectories using glob\n",
    "    filepath_list = glob.glob(os.path.join(root,'*'))\n",
    "    print(filepath_list)"
   ]
  },
  {
   "cell_type": "markdown",
   "metadata": {},
   "source": []
  }
 ],
 "metadata": {
  "kernelspec": {
   "display_name": "Python 3",
   "language": "python",
   "name": "python3"
  },
  "language_info": {
   "codemirror_mode": {
    "name": "ipython",
    "version": 3
   },
   "file_extension": ".py",
   "mimetype": "text/x-python",
   "name": "python",
   "nbconvert_exporter": "python",
   "pygments_lexer": "ipython3",
   "version": "3.10.11"
  },
  "orig_nbformat": 4
 },
 "nbformat": 4,
 "nbformat_minor": 2
}
