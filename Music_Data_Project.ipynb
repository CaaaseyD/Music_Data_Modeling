{
 "cells": [
  {
   "cell_type": "markdown",
   "metadata": {},
   "source": [
    "# Music Data Modeling Project\n",
    "In this project, we apply Data Modeling with Cassandra and build an ETL pipeline using Python. We will build a Data Model around our queries that we want to get answers for. For our use case we want below answers:\n",
    "1. Get details of a song that was herad on the music app history during a particular session.\n",
    "2. Get songs played by a user during particular session on music app.\n",
    "3. Get all users from the music app history who listened to a particular song."
   ]
  },
  {
   "cell_type": "markdown",
   "metadata": {},
   "source": [
    "# Part I. ETL Pipeline for Pre-Processing the Files"
   ]
  },
  {
   "cell_type": "code",
   "execution_count": 4,
   "metadata": {},
   "outputs": [],
   "source": [
    "# import python packages\n",
    "import pandas as pd\n",
    "import cassandra\n",
    "import re\n",
    "import os\n",
    "import glob\n",
    "import numpy as np\n",
    "import json\n",
    "import csv"
   ]
  },
  {
   "cell_type": "code",
   "execution_count": 5,
   "metadata": {},
   "outputs": [
    {
     "name": "stdout",
     "output_type": "stream",
     "text": [
      "current working directory: /Users/caseyddd/Library/CloudStorage/Dropbox/Baimax/PersonalDevelopment/SQL/Music_Data_Modeling\n",
      "['/Users/caseyddd/Library/CloudStorage/Dropbox/Baimax/PersonalDevelopment/SQL/Music_Data_Modeling/event_data/2018-11-15-events.csv', '/Users/caseyddd/Library/CloudStorage/Dropbox/Baimax/PersonalDevelopment/SQL/Music_Data_Modeling/event_data/2018-11-22-events.csv', '/Users/caseyddd/Library/CloudStorage/Dropbox/Baimax/PersonalDevelopment/SQL/Music_Data_Modeling/event_data/2018-11-09-events.csv', '/Users/caseyddd/Library/CloudStorage/Dropbox/Baimax/PersonalDevelopment/SQL/Music_Data_Modeling/event_data/2018-11-18-events.csv', '/Users/caseyddd/Library/CloudStorage/Dropbox/Baimax/PersonalDevelopment/SQL/Music_Data_Modeling/event_data/2018-11-04-events.csv', '/Users/caseyddd/Library/CloudStorage/Dropbox/Baimax/PersonalDevelopment/SQL/Music_Data_Modeling/event_data/2018-11-01-events.csv', '/Users/caseyddd/Library/CloudStorage/Dropbox/Baimax/PersonalDevelopment/SQL/Music_Data_Modeling/event_data/2018-11-27-events.csv', '/Users/caseyddd/Library/CloudStorage/Dropbox/Baimax/PersonalDevelopment/SQL/Music_Data_Modeling/event_data/2018-11-10-events.csv', '/Users/caseyddd/Library/CloudStorage/Dropbox/Baimax/PersonalDevelopment/SQL/Music_Data_Modeling/event_data/2018-11-20-events.csv', '/Users/caseyddd/Library/CloudStorage/Dropbox/Baimax/PersonalDevelopment/SQL/Music_Data_Modeling/event_data/2018-11-17-events.csv', '/Users/caseyddd/Library/CloudStorage/Dropbox/Baimax/PersonalDevelopment/SQL/Music_Data_Modeling/event_data/2018-11-06-events.csv', '/Users/caseyddd/Library/CloudStorage/Dropbox/Baimax/PersonalDevelopment/SQL/Music_Data_Modeling/event_data/2018-11-03-events.csv', '/Users/caseyddd/Library/CloudStorage/Dropbox/Baimax/PersonalDevelopment/SQL/Music_Data_Modeling/event_data/2018-11-28-events.csv', '/Users/caseyddd/Library/CloudStorage/Dropbox/Baimax/PersonalDevelopment/SQL/Music_Data_Modeling/event_data/2018-11-12-events.csv', '/Users/caseyddd/Library/CloudStorage/Dropbox/Baimax/PersonalDevelopment/SQL/Music_Data_Modeling/event_data/2018-11-25-events.csv', '/Users/caseyddd/Library/CloudStorage/Dropbox/Baimax/PersonalDevelopment/SQL/Music_Data_Modeling/event_data/2018-11-26-events.csv', '/Users/caseyddd/Library/CloudStorage/Dropbox/Baimax/PersonalDevelopment/SQL/Music_Data_Modeling/event_data/2018-11-11-events.csv', '/Users/caseyddd/Library/CloudStorage/Dropbox/Baimax/PersonalDevelopment/SQL/Music_Data_Modeling/event_data/2018-11-14-events.csv', '/Users/caseyddd/Library/CloudStorage/Dropbox/Baimax/PersonalDevelopment/SQL/Music_Data_Modeling/event_data/2018-11-23-events.csv', '/Users/caseyddd/Library/CloudStorage/Dropbox/Baimax/PersonalDevelopment/SQL/Music_Data_Modeling/event_data/2018-11-08-events.csv', '/Users/caseyddd/Library/CloudStorage/Dropbox/Baimax/PersonalDevelopment/SQL/Music_Data_Modeling/event_data/2018-11-19-events.csv', '/Users/caseyddd/Library/CloudStorage/Dropbox/Baimax/PersonalDevelopment/SQL/Music_Data_Modeling/event_data/2018-11-05-events.csv', '/Users/caseyddd/Library/CloudStorage/Dropbox/Baimax/PersonalDevelopment/SQL/Music_Data_Modeling/event_data/2018-11-02-events.csv', '/Users/caseyddd/Library/CloudStorage/Dropbox/Baimax/PersonalDevelopment/SQL/Music_Data_Modeling/event_data/2018-11-29-events.csv', '/Users/caseyddd/Library/CloudStorage/Dropbox/Baimax/PersonalDevelopment/SQL/Music_Data_Modeling/event_data/2018-11-13-events.csv', '/Users/caseyddd/Library/CloudStorage/Dropbox/Baimax/PersonalDevelopment/SQL/Music_Data_Modeling/event_data/2018-11-24-events.csv', '/Users/caseyddd/Library/CloudStorage/Dropbox/Baimax/PersonalDevelopment/SQL/Music_Data_Modeling/event_data/2018-11-21-events.csv', '/Users/caseyddd/Library/CloudStorage/Dropbox/Baimax/PersonalDevelopment/SQL/Music_Data_Modeling/event_data/2018-11-16-events.csv', '/Users/caseyddd/Library/CloudStorage/Dropbox/Baimax/PersonalDevelopment/SQL/Music_Data_Modeling/event_data/2018-11-07-events.csv', '/Users/caseyddd/Library/CloudStorage/Dropbox/Baimax/PersonalDevelopment/SQL/Music_Data_Modeling/event_data/2018-11-30-events.csv']\n"
     ]
    }
   ],
   "source": [
    "# process original event csv data files\n",
    "# check current working directory\n",
    "print(f\"current working directory: {os.getcwd()}\")\n",
    "# get directory of the data files\n",
    "filepath = os.getcwd() + '/event_data'\n",
    "# create a list of the files and collect each filepath\n",
    "for root,dirs,files in os.walk(filepath):\n",
    "# join the file path and roots with the subdirectories using glob\n",
    "    filepath_list = glob.glob(os.path.join(root,'*'))\n",
    "    print(filepath_list)"
   ]
  },
  {
   "cell_type": "markdown",
   "metadata": {},
   "source": [
    "# Processing the files to create the data file csv that will be used for Apache Casssandra tables"
   ]
  },
  {
   "cell_type": "code",
   "execution_count": 8,
   "metadata": {},
   "outputs": [
    {
     "name": "stdout",
     "output_type": "stream",
     "text": [
      "total rows: 8056\n",
      "sample data:\n",
      " [['Harmonia', 'Logged In', 'Ryan', 'M', '0', 'Smith', '655.77751', 'free', 'San Jose-Sunnyvale-Santa Clara, CA', 'PUT', 'NextSong', '1.54102E+12', '583', 'Sehr kosmisch', '200', '1.54224E+12', '26'], ['The Prodigy', 'Logged In', 'Ryan', 'M', '1', 'Smith', '260.07465', 'free', 'San Jose-Sunnyvale-Santa Clara, CA', 'PUT', 'NextSong', '1.54102E+12', '583', 'The Big Gundown', '200', '1.54224E+12', '26'], ['Train', 'Logged In', 'Ryan', 'M', '2', 'Smith', '205.45261', 'free', 'San Jose-Sunnyvale-Santa Clara, CA', 'PUT', 'NextSong', '1.54102E+12', '583', 'Marry Me', '200', '1.54224E+12', '26'], ['', 'Logged In', 'Wyatt', 'M', '0', 'Scott', '', 'free', 'Eureka-Arcata-Fortuna, CA', 'GET', 'Home', '1.54087E+12', '563', '', '200', '1.54225E+12', '9'], ['', 'Logged In', 'Austin', 'M', '0', 'Rosales', '', 'free', 'New York-Newark-Jersey City, NY-NJ-PA', 'GET', 'Home', '1.54106E+12', '521', '', '200', '1.54225E+12', '12']]\n"
     ]
    }
   ],
   "source": [
    "full_data_rows_list = []\n",
    "\n",
    "for fp in filepath_list:\n",
    "    with open(fp,'r',encoding='utf8',newline='') as csvfile:\n",
    "        csvreader = csv.reader(csvfile)\n",
    "        next(csvreader)\n",
    "        for l in csvreader:\n",
    "            full_data_rows_list.append(l)\n",
    "\n",
    "print(f'total rows: {len(full_data_rows_list)}')\n",
    "print(f'sample data:\\n {full_data_rows_list[:5]}')"
   ]
  }
 ],
 "metadata": {
  "kernelspec": {
   "display_name": "Python 3",
   "language": "python",
   "name": "python3"
  },
  "language_info": {
   "codemirror_mode": {
    "name": "ipython",
    "version": 3
   },
   "file_extension": ".py",
   "mimetype": "text/x-python",
   "name": "python",
   "nbconvert_exporter": "python",
   "pygments_lexer": "ipython3",
   "version": "3.11.4"
  },
  "orig_nbformat": 4
 },
 "nbformat": 4,
 "nbformat_minor": 2
}
