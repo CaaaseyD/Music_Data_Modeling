{
 "cells": [
  {
   "cell_type": "markdown",
   "metadata": {},
   "source": [
    "# Music Data Modeling Project\n",
    "In this project, we apply Data Modeling with Cassandra and build an ETL pipeline using Python. We will build a Data Model around our queries that we want to get answers for. For our use case we want below answers:\n",
    "1. Get details of a song that was herad on the music app history during a particular session.\n",
    "2. Get songs played by a user during particular session on music app.\n",
    "3. Get all users from the music app history who listened to a particular song."
   ]
  },
  {
   "cell_type": "markdown",
   "metadata": {},
   "source": [
    "# Part I. ETL Pipeline for Pre-Processing the Files"
   ]
  },
  {
   "cell_type": "code",
   "execution_count": 4,
   "metadata": {},
   "outputs": [],
   "source": [
    "# import python packages\n",
    "import pandas as pd\n",
    "import cassandra\n",
    "import re\n",
    "import os\n",
    "import glob\n",
    "import numpy as np\n",
    "import json\n",
    "import csv"
   ]
  },
  {
   "cell_type": "code",
   "execution_count": 5,
   "metadata": {},
   "outputs": [
    {
     "name": "stdout",
     "output_type": "stream",
     "text": [
      "current working directory: /Users/caseyddd/Library/CloudStorage/Dropbox/Baimax/PersonalDevelopment/SQL/Music_Data_Modeling\n",
      "['/Users/caseyddd/Library/CloudStorage/Dropbox/Baimax/PersonalDevelopment/SQL/Music_Data_Modeling/event_data/2018-11-15-events.csv', '/Users/caseyddd/Library/CloudStorage/Dropbox/Baimax/PersonalDevelopment/SQL/Music_Data_Modeling/event_data/2018-11-22-events.csv', '/Users/caseyddd/Library/CloudStorage/Dropbox/Baimax/PersonalDevelopment/SQL/Music_Data_Modeling/event_data/2018-11-09-events.csv', '/Users/caseyddd/Library/CloudStorage/Dropbox/Baimax/PersonalDevelopment/SQL/Music_Data_Modeling/event_data/2018-11-18-events.csv', '/Users/caseyddd/Library/CloudStorage/Dropbox/Baimax/PersonalDevelopment/SQL/Music_Data_Modeling/event_data/2018-11-04-events.csv', '/Users/caseyddd/Library/CloudStorage/Dropbox/Baimax/PersonalDevelopment/SQL/Music_Data_Modeling/event_data/2018-11-01-events.csv', '/Users/caseyddd/Library/CloudStorage/Dropbox/Baimax/PersonalDevelopment/SQL/Music_Data_Modeling/event_data/2018-11-27-events.csv', '/Users/caseyddd/Library/CloudStorage/Dropbox/Baimax/PersonalDevelopment/SQL/Music_Data_Modeling/event_data/2018-11-10-events.csv', '/Users/caseyddd/Library/CloudStorage/Dropbox/Baimax/PersonalDevelopment/SQL/Music_Data_Modeling/event_data/2018-11-20-events.csv', '/Users/caseyddd/Library/CloudStorage/Dropbox/Baimax/PersonalDevelopment/SQL/Music_Data_Modeling/event_data/2018-11-17-events.csv', '/Users/caseyddd/Library/CloudStorage/Dropbox/Baimax/PersonalDevelopment/SQL/Music_Data_Modeling/event_data/2018-11-06-events.csv', '/Users/caseyddd/Library/CloudStorage/Dropbox/Baimax/PersonalDevelopment/SQL/Music_Data_Modeling/event_data/2018-11-03-events.csv', '/Users/caseyddd/Library/CloudStorage/Dropbox/Baimax/PersonalDevelopment/SQL/Music_Data_Modeling/event_data/2018-11-28-events.csv', '/Users/caseyddd/Library/CloudStorage/Dropbox/Baimax/PersonalDevelopment/SQL/Music_Data_Modeling/event_data/2018-11-12-events.csv', '/Users/caseyddd/Library/CloudStorage/Dropbox/Baimax/PersonalDevelopment/SQL/Music_Data_Modeling/event_data/2018-11-25-events.csv', '/Users/caseyddd/Library/CloudStorage/Dropbox/Baimax/PersonalDevelopment/SQL/Music_Data_Modeling/event_data/2018-11-26-events.csv', '/Users/caseyddd/Library/CloudStorage/Dropbox/Baimax/PersonalDevelopment/SQL/Music_Data_Modeling/event_data/2018-11-11-events.csv', '/Users/caseyddd/Library/CloudStorage/Dropbox/Baimax/PersonalDevelopment/SQL/Music_Data_Modeling/event_data/2018-11-14-events.csv', '/Users/caseyddd/Library/CloudStorage/Dropbox/Baimax/PersonalDevelopment/SQL/Music_Data_Modeling/event_data/2018-11-23-events.csv', '/Users/caseyddd/Library/CloudStorage/Dropbox/Baimax/PersonalDevelopment/SQL/Music_Data_Modeling/event_data/2018-11-08-events.csv', '/Users/caseyddd/Library/CloudStorage/Dropbox/Baimax/PersonalDevelopment/SQL/Music_Data_Modeling/event_data/2018-11-19-events.csv', '/Users/caseyddd/Library/CloudStorage/Dropbox/Baimax/PersonalDevelopment/SQL/Music_Data_Modeling/event_data/2018-11-05-events.csv', '/Users/caseyddd/Library/CloudStorage/Dropbox/Baimax/PersonalDevelopment/SQL/Music_Data_Modeling/event_data/2018-11-02-events.csv', '/Users/caseyddd/Library/CloudStorage/Dropbox/Baimax/PersonalDevelopment/SQL/Music_Data_Modeling/event_data/2018-11-29-events.csv', '/Users/caseyddd/Library/CloudStorage/Dropbox/Baimax/PersonalDevelopment/SQL/Music_Data_Modeling/event_data/2018-11-13-events.csv', '/Users/caseyddd/Library/CloudStorage/Dropbox/Baimax/PersonalDevelopment/SQL/Music_Data_Modeling/event_data/2018-11-24-events.csv', '/Users/caseyddd/Library/CloudStorage/Dropbox/Baimax/PersonalDevelopment/SQL/Music_Data_Modeling/event_data/2018-11-21-events.csv', '/Users/caseyddd/Library/CloudStorage/Dropbox/Baimax/PersonalDevelopment/SQL/Music_Data_Modeling/event_data/2018-11-16-events.csv', '/Users/caseyddd/Library/CloudStorage/Dropbox/Baimax/PersonalDevelopment/SQL/Music_Data_Modeling/event_data/2018-11-07-events.csv', '/Users/caseyddd/Library/CloudStorage/Dropbox/Baimax/PersonalDevelopment/SQL/Music_Data_Modeling/event_data/2018-11-30-events.csv']\n"
     ]
    }
   ],
   "source": [
    "# process original event csv data files\n",
    "# check current working directory\n",
    "print(f\"current working directory: {os.getcwd()}\")\n",
    "# get directory of the data files\n",
    "filepath = os.getcwd() + '/event_data'\n",
    "# create a list of the files and collect each filepath\n",
    "for root,dirs,files in os.walk(filepath):\n",
    "# join the file path and roots with the subdirectories using glob\n",
    "    filepath_list = glob.glob(os.path.join(root,'*'))\n",
    "    print(filepath_list)"
   ]
  },
  {
   "cell_type": "markdown",
   "metadata": {},
   "source": [
    "# Processing the files to create the data file csv that will be used for Apache Casssandra tables"
   ]
  },
  {
   "cell_type": "code",
   "execution_count": 12,
   "metadata": {},
   "outputs": [
    {
     "name": "stdout",
     "output_type": "stream",
     "text": [
      "total rows: 8056\n",
      "sample data:\n",
      " [['Harmonia', 'Logged In', 'Ryan', 'M', '0', 'Smith', '655.77751', 'free', 'San Jose-Sunnyvale-Santa Clara, CA', 'PUT', 'NextSong', '1.54102E+12', '583', 'Sehr kosmisch', '200', '1.54224E+12', '26'], ['The Prodigy', 'Logged In', 'Ryan', 'M', '1', 'Smith', '260.07465', 'free', 'San Jose-Sunnyvale-Santa Clara, CA', 'PUT', 'NextSong', '1.54102E+12', '583', 'The Big Gundown', '200', '1.54224E+12', '26'], ['Train', 'Logged In', 'Ryan', 'M', '2', 'Smith', '205.45261', 'free', 'San Jose-Sunnyvale-Santa Clara, CA', 'PUT', 'NextSong', '1.54102E+12', '583', 'Marry Me', '200', '1.54224E+12', '26'], ['', 'Logged In', 'Wyatt', 'M', '0', 'Scott', '', 'free', 'Eureka-Arcata-Fortuna, CA', 'GET', 'Home', '1.54087E+12', '563', '', '200', '1.54225E+12', '9'], ['', 'Logged In', 'Austin', 'M', '0', 'Rosales', '', 'free', 'New York-Newark-Jersey City, NY-NJ-PA', 'GET', 'Home', '1.54106E+12', '521', '', '200', '1.54225E+12', '12']]\n"
     ]
    }
   ],
   "source": [
    "full_data_rows_list = []\n",
    "\n",
    "for fp in filepath_list:\n",
    "    with open(fp,'r',encoding='utf8',newline='') as csvfile:\n",
    "        csvreader = csv.reader(csvfile)\n",
    "        next(csvreader)\n",
    "        for l in csvreader:\n",
    "            full_data_rows_list.append(l)\n",
    "\n",
    "print(f'total rows: {len(full_data_rows_list)}')\n",
    "print(f'sample data:\\n {full_data_rows_list[:5]}')\n",
    "\n",
    "csv.register_dialect('Dialect',quoting=csv.QUOTE_ALL,skipinitialspace=True)\n",
    "\n",
    "with open('event_datafile.csv','w',encoding='utf8',newline='') as f:\n",
    "    writer = csv.writer(f, dialect='Dialect')\n",
    "    writer.writerow(['artist','firstName','gender','itemInSession','lastName',\n",
    "                     'length','level','location','sessionId','song','userId'])\n",
    "    for row in full_data_rows_list:\n",
    "        if(row[0]==''):\n",
    "            continue\n",
    "        writer.writerow((row[0], row[2], row[3], row[4], row[5], row[6], row[7], row[8], row[12], row[13], row[16]))\n",
    "\n"
   ]
  },
  {
   "cell_type": "code",
   "execution_count": 13,
   "metadata": {},
   "outputs": [
    {
     "name": "stdout",
     "output_type": "stream",
     "text": [
      "6821\n"
     ]
    }
   ],
   "source": [
    "with open('event_datafile.csv','r',encoding='utf8') as f:\n",
    "    print(sum(1 for line in f))"
   ]
  },
  {
   "cell_type": "markdown",
   "metadata": {},
   "source": [
    "Now we are ready to work with the CSV file titled <font color=red>event_datafile_new.csv</font>, located within the Workspace directory.  The event_datafile_new.csv contains the following columns: \n",
    "- artist \n",
    "- firstName of user\n",
    "- gender of user\n",
    "- item number in session\n",
    "- last name of user\n",
    "- length of the song\n",
    "- level (paid or free song)\n",
    "- location of the user\n",
    "- sessionId\n",
    "- song title\n",
    "- userId"
   ]
  },
  {
   "cell_type": "markdown",
   "metadata": {},
   "source": [
    "#### Creating a Cluster"
   ]
  },
  {
   "cell_type": "code",
   "execution_count": 2,
   "metadata": {},
   "outputs": [
    {
     "name": "stdout",
     "output_type": "stream",
     "text": [
      "Connection Established !!\n"
     ]
    }
   ],
   "source": [
    "# This should make a connection to a Cassandra instance your local machine \n",
    "# (127.0.0.1)\n",
    "\n",
    "from cassandra.cluster import Cluster\n",
    "try:\n",
    "    cluster = Cluster(['127.0.0.1'])\n",
    "    session = cluster.connect()\n",
    "    print(\"Connection Established !!\")\n",
    "except Exception as e:\n",
    "    print(f\"Connection Failed !! Error : {e}\")"
   ]
  },
  {
   "cell_type": "markdown",
   "metadata": {},
   "source": [
    "#### Creating Keyspace"
   ]
  },
  {
   "cell_type": "code",
   "execution_count": 3,
   "metadata": {},
   "outputs": [],
   "source": [
    "keyspace_query = \"\"\"CREATE KEYSPACE IF NOT EXISTS sparkify \n",
    "                    with REPLICATION = \n",
    "                    { 'class' : 'SimpleStrategy', 'replication_factor' : 1 }\n",
    "                \"\"\"\n",
    "\n",
    "# Creating Keyspace\n",
    "try:\n",
    "    session.execute(keyspace_query)\n",
    "except Exception as e:\n",
    "    print(f\"Failed to create keyspace!! Error : {e}\")"
   ]
  },
  {
   "cell_type": "code",
   "execution_count": 4,
   "metadata": {},
   "outputs": [],
   "source": [
    "# Setting KEYSPACE to the keyspace specified above\n",
    "session.set_keyspace('sparkify')"
   ]
  },
  {
   "cell_type": "markdown",
   "metadata": {},
   "source": [
    "Data Model requirement\n",
    "\n",
    "1. Give the artist, song title and song's length in the music app history that was heard during  sessionId = 338, and itemInSession  = 4"
   ]
  },
  {
   "cell_type": "code",
   "execution_count": 5,
   "metadata": {},
   "outputs": [
    {
     "name": "stdout",
     "output_type": "stream",
     "text": [
      "Table Created!!\n"
     ]
    }
   ],
   "source": [
    "# Creating table for query1 \n",
    "create_query1 = \"\"\"CREATE TABLE IF NOT EXISTS session_item (artist text, song text, length float, sessionId int, itemInSession int, PRIMARY KEY (sessionId, itemInSession))\"\"\"\n",
    "\n",
    "try: \n",
    "    session.execute(create_query1)\n",
    "    print(\"Table Created!!\")\n",
    "except Exception as e:\n",
    "    print(f\"Table creation failed!! Error : {e}\")"
   ]
  },
  {
   "cell_type": "code",
   "execution_count": 7,
   "metadata": {},
   "outputs": [],
   "source": [
    "import csv\n",
    "# Using the event file\n",
    "file = 'event_datafile.csv'\n",
    "\n",
    "# Reading csv file and inserting rows into cassandra tables.\n",
    "with open(file, encoding = 'utf8') as f:\n",
    "    csvreader = csv.reader(f)\n",
    "    next(csvreader) # skip header\n",
    "    for line in csvreader:\n",
    "        query = \"INSERT INTO session_item (artist, song, length, sessionId, itemInSession) \"\n",
    "        query = query + \" VALUES (%s, %s, %s, %s, %s) \"\n",
    "        session.execute(query, (line[0], line[10], float(line[5]), int(line[8]), int(line[3])) )"
   ]
  },
  {
   "cell_type": "code",
   "execution_count": 8,
   "metadata": {},
   "outputs": [
    {
     "name": "stdout",
     "output_type": "stream",
     "text": [
      "Row(artist='Faithless', song='50', length=495.30731201171875)\n"
     ]
    }
   ],
   "source": [
    "# SELECT statement to verify the data was entered into the table\n",
    "select_query1 = \"SELECT artist, song, length FROM  session_item where sessionId = 338 and itemInSession = 4\"\n",
    "try:\n",
    "    rows = session.execute(select_query1)\n",
    "except Exception as e:\n",
    "    print(e)\n",
    "    \n",
    "for row in rows:\n",
    "    print(row)"
   ]
  },
  {
   "cell_type": "markdown",
   "metadata": {},
   "source": [
    "2. Give only the following: name of artist, song (sorted by itemInSession) and user (first and last name) for userid = 10, sessionid = 182"
   ]
  },
  {
   "cell_type": "code",
   "execution_count": 9,
   "metadata": {},
   "outputs": [
    {
     "name": "stdout",
     "output_type": "stream",
     "text": [
      "Table Created!!\n"
     ]
    }
   ],
   "source": [
    "# Creating table for query2 \n",
    "create_query2 = \"\"\"CREATE TABLE IF NOT EXISTS user_session (sessionId int, userId int, artist text, song text, firstName text, lastName text, itemInSession int, PRIMARY KEY ((sessionId, userId), itemInSession)) WITH CLUSTERING ORDER BY (itemInSession ASC) \"\"\"\n",
    "\n",
    "try: \n",
    "    session.execute(create_query2)\n",
    "    print(\"Table Created!!\")\n",
    "except Exception as e:\n",
    "    print(f\"Table creation failed!! Error : {e}\")"
   ]
  },
  {
   "cell_type": "code",
   "execution_count": 10,
   "metadata": {},
   "outputs": [],
   "source": [
    "file = 'event_datafile.csv'\n",
    "\n",
    "with open(file, encoding = 'utf8') as f:\n",
    "    csvreader = csv.reader(f)\n",
    "    next(csvreader) # skip header\n",
    "    for line in csvreader:\n",
    "        query = \"INSERT INTO user_session (sessionId, userId, artist, song, firstName, lastName, itemInSession) \"\n",
    "        query = query + \" VALUES (%s, %s, %s, %s, %s, %s, %s) \"\n",
    "        session.execute(query, (int(line[8]), int(line[10]), line[0], line[9], line[1], line[4], int(line[3])  ) )"
   ]
  },
  {
   "cell_type": "code",
   "execution_count": 11,
   "metadata": {},
   "outputs": [
    {
     "name": "stdout",
     "output_type": "stream",
     "text": [
      "Row(artist='Down To The Bone', song=\"Keep On Keepin' On\", firstname='Sylvie', lastname='Cruz')\n",
      "Row(artist='Three Drives', song='Greece 2000', firstname='Sylvie', lastname='Cruz')\n",
      "Row(artist='Sebastien Tellier', song='Kilometer', firstname='Sylvie', lastname='Cruz')\n",
      "Row(artist='Lonnie Gordon', song='Catch You Baby (Steve Pitron & Max Sanna Radio Edit)', firstname='Sylvie', lastname='Cruz')\n"
     ]
    }
   ],
   "source": [
    "# SELECT statement to verify the data was entered into the table\n",
    "select_query2 = \"SELECT artist, song, firstName, lastName FROM  user_session where sessionId = 182 and userId = 10\"\n",
    "try:\n",
    "    rows = session.execute(select_query2)\n",
    "except Exception as e:\n",
    "    print(e)\n",
    "\n",
    "for row in rows:\n",
    "    print(row)"
   ]
  },
  {
   "cell_type": "markdown",
   "metadata": {},
   "source": [
    "3. Give every user name (first and last) in my music app history who listened to the song 'All Hands Against His Own'"
   ]
  },
  {
   "cell_type": "code",
   "execution_count": 12,
   "metadata": {},
   "outputs": [
    {
     "name": "stdout",
     "output_type": "stream",
     "text": [
      "Table Created!!\n"
     ]
    }
   ],
   "source": [
    "# Creating table for query3\n",
    "\n",
    "create_query3 = \"\"\"CREATE TABLE IF NOT EXISTS user_song (song text, userId int, firstName text, lastName text, PRIMARY KEY ((song), userId))\"\"\"\n",
    "\n",
    "try: \n",
    "    session.execute(create_query3)\n",
    "    print(\"Table Created!!\")\n",
    "except Exception as e:\n",
    "    print(f\"Table creation failed!! Error : {e}\")"
   ]
  },
  {
   "cell_type": "code",
   "execution_count": 13,
   "metadata": {},
   "outputs": [],
   "source": [
    "file = 'event_datafile.csv'\n",
    "\n",
    "with open(file, encoding = 'utf8') as f:\n",
    "    csvreader = csv.reader(f)\n",
    "    next(csvreader) # skip header\n",
    "    for line in csvreader:\n",
    "        query = \"INSERT INTO user_song (song, userId, firstName, lastName) \"\n",
    "        query = query + \" VALUES (%s, %s, %s, %s) \"\n",
    "        session.execute(query, (  line[9], int(line[10]), line[1], line[4] )  )"
   ]
  },
  {
   "cell_type": "code",
   "execution_count": 14,
   "metadata": {},
   "outputs": [
    {
     "name": "stdout",
     "output_type": "stream",
     "text": [
      "Row(song='All Hands Against His Own', firstname='Jacqueline', lastname='Lynch')\n",
      "Row(song='All Hands Against His Own', firstname='Tegan', lastname='Levine')\n",
      "Row(song='All Hands Against His Own', firstname='Sara', lastname='Johnson')\n"
     ]
    }
   ],
   "source": [
    "# SELECT statement to verify the data was entered into the table\n",
    "select_query2 = \"SELECT song, firstName, lastName FROM user_song where song = 'All Hands Against His Own'\"\n",
    "try:\n",
    "    rows = session.execute(select_query2)\n",
    "except Exception as e:\n",
    "    print(e)\n",
    "\n",
    "for row in rows:\n",
    "    print(row)"
   ]
  },
  {
   "cell_type": "markdown",
   "metadata": {},
   "source": [
    "### Drop the tables before closing out the sessions"
   ]
  },
  {
   "cell_type": "code",
   "execution_count": 15,
   "metadata": {},
   "outputs": [
    {
     "data": {
      "text/plain": [
       "<cassandra.cluster.ResultSet at 0x105f91e90>"
      ]
     },
     "execution_count": 15,
     "metadata": {},
     "output_type": "execute_result"
    }
   ],
   "source": [
    "session.execute(\"DROP TABLE IF EXISTS sparkify.session_item\")\n",
    "session.execute(\"DROP TABLE IF EXISTS sparkify.user_session\")\n",
    "session.execute(\"DROP TABLE IF EXISTS sparkify.user_song\")"
   ]
  },
  {
   "cell_type": "markdown",
   "metadata": {},
   "source": [
    "### Close the session and cluster connection¶"
   ]
  },
  {
   "cell_type": "code",
   "execution_count": 16,
   "metadata": {},
   "outputs": [],
   "source": [
    "session.shutdown()\n",
    "cluster.shutdown()"
   ]
  }
 ],
 "metadata": {
  "kernelspec": {
   "display_name": "Python 3",
   "language": "python",
   "name": "python3"
  },
  "language_info": {
   "codemirror_mode": {
    "name": "ipython",
    "version": 3
   },
   "file_extension": ".py",
   "mimetype": "text/x-python",
   "name": "python",
   "nbconvert_exporter": "python",
   "pygments_lexer": "ipython3",
   "version": "3.11.4"
  },
  "orig_nbformat": 4
 },
 "nbformat": 4,
 "nbformat_minor": 2
}
